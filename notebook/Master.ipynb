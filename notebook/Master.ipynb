{
 "cells": [
  {
   "cell_type": "markdown",
   "id": "194e51f2",
   "metadata": {},
   "source": [
    "# Introduction\n",
    "\n",
    "\n",
    "\n",
    "                \n",
    "        This Notebook Demonstrates synchronizing the system clock and GEM PTP Hardware clock(Both master and slaves)with\n",
    "        GPS Time using Pmod GPS receiver. \n",
    "        ubuntu Deamons(Gpsd,Chrony) and linux ptp utilities (phc2sys,ptp4l) are used for Synchronization.\n",
    "              \n",
    "  ### KR260 Boards Test setup            \n",
    "          \n",
    " <img src=\"gps.png\" style=\"width:900px;height:450px\" align=\"left\"/>"
   ]
  },
  {
   "cell_type": "markdown",
   "id": "9b64e9c9",
   "metadata": {},
   "source": [
    " ### Clock Synchronization Flow chart\n",
    "   <img src=\"sync_flow.png\" style=\"width:900px;height:450px\" align=\"left\"/>"
   ]
  },
  {
   "cell_type": "markdown",
   "id": "f2d4983d",
   "metadata": {},
   "source": [
    "#### Default System time and PHC Clock"
   ]
  },
  {
   "cell_type": "code",
   "execution_count": null,
   "id": "47c74ba0",
   "metadata": {},
   "outputs": [],
   "source": [
    "!timedatectl\n",
    "!phc_ctl /dev/ptp1 get"
   ]
  },
  {
   "cell_type": "markdown",
   "id": "22ff0cd0",
   "metadata": {},
   "source": [
    "## Gpsd:\n",
    "            Gpsd is a service Deamon for establishing the connection to the external GPS Receiver,This Deamon is configured to read and process UBX protocol messages through the Uart interface on the master node.The results are provided via an IPC shared memory buffer"
   ]
  },
  {
   "cell_type": "code",
   "execution_count": null,
   "id": "00bb34b9",
   "metadata": {},
   "outputs": [],
   "source": [
    "import os\n",
    "get_ipython().system = os.system\n",
    "!mv /dev/ttyULR0 /dev/tty16\n",
    "!systemctl disable gpsd.socket\n",
    "!sleep 1\n",
    "!systemctl stop gpsd.service\n",
    "!sleep 3\n",
    "!systemctl start gpsd.service\n",
    "!killall -9 gpsd\n",
    "!gpsd -n -N /dev/tty16 & \n",
    "!sleep 2\n",
    "!echo \"gpsd service started\""
   ]
  },
  {
   "cell_type": "markdown",
   "id": "69df5241",
   "metadata": {},
   "source": [
    "## Chrony:\n",
    "          Chrony implements a robust time syncronization b/w the system clock with GPS,it is configured to work with shared memory segment and also process the PPS (/dev/ppsXX) interface."
   ]
  },
  {
   "cell_type": "code",
   "execution_count": null,
   "id": "b8f51193",
   "metadata": {},
   "outputs": [],
   "source": [
    "!timedatectl"
   ]
  },
  {
   "cell_type": "code",
   "execution_count": null,
   "id": "9898989d",
   "metadata": {},
   "outputs": [],
   "source": [
    "!echo \"chrony started\"\n",
    "!systemctl start chrony\n",
    "!sleep 180\n",
    "!chronyc sources\n",
    "!chronyc tracking\n",
    "!echo \"************** System Clock Syncronized With GPS Time****************\"\n",
    "!timedatectl"
   ]
  },
  {
   "cell_type": "markdown",
   "id": "1ddad2ca",
   "metadata": {},
   "source": [
    "## Phc2sys:\n",
    "            phc2sys establishes the synchronization between the PHC and system clocks – the actual synchronization direction depends on the role of the node"
   ]
  },
  {
   "cell_type": "code",
   "execution_count": null,
   "id": "484e8abb",
   "metadata": {},
   "outputs": [],
   "source": [
    "!timedatectl\n",
    "!phc_ctl /dev/ptp1 get"
   ]
  },
  {
   "cell_type": "code",
   "execution_count": null,
   "id": "c4b8262f",
   "metadata": {},
   "outputs": [],
   "source": [
    "!echo \"*********************** Phc2sys Running *****************************\"\n",
    "!phc2sys -c /dev/ptp1 -s CLOCK_REALTIME -O 0 &\n",
    "!sleep 5\n",
    "!echo \"*************** PHC clock Syncronized with system clock***************\"\n",
    "!phc_ctl /dev/ptp1 get\n",
    "!timedatectl"
   ]
  },
  {
   "cell_type": "markdown",
   "id": "470583d6",
   "metadata": {},
   "source": [
    "## ptp4l:\n",
    "        ptp4l implements the PTP network protocol and aligns the PHC clocks on the slave side"
   ]
  },
  {
   "cell_type": "code",
   "execution_count": null,
   "id": "b64d2164",
   "metadata": {},
   "outputs": [],
   "source": [
    "!ptp4l -i eth0  &\n",
    "!echo \"*************** Ptp4l Application is Running***************\""
   ]
  },
  {
   "cell_type": "code",
   "execution_count": null,
   "id": "ff1e4177",
   "metadata": {},
   "outputs": [],
   "source": [
    "!timedatectl\n",
    "!phc_ctl /dev/ptp1 get"
   ]
  }
 ],
 "metadata": {
  "kernelspec": {
   "display_name": "Python 3 (ipykernel)",
   "language": "python",
   "name": "python3"
  },
  "language_info": {
   "codemirror_mode": {
    "name": "ipython",
    "version": 3
   },
   "file_extension": ".py",
   "mimetype": "text/x-python",
   "name": "python",
   "nbconvert_exporter": "python",
   "pygments_lexer": "ipython3",
   "version": "3.10.6"
  }
 },
 "nbformat": 4,
 "nbformat_minor": 5
}
