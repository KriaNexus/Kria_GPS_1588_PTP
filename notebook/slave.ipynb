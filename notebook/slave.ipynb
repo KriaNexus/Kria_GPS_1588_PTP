{
 "cells": [
  {
   "cell_type": "markdown",
   "id": "f5ed98e3",
   "metadata": {},
   "source": [
    "# Introduction\n",
    "\n",
    "\n",
    "\n",
    "                \n",
    "               This Notebook Demonstrates synchronizing GEM PTP Hardware clock and system clock with Master side PTP Hardware clock(Synchronized to GPS clock) using ptp4l and phc2sys utilities\n",
    "             \n",
    "              "
   ]
  },
  {
   "cell_type": "markdown",
   "id": "e37d8a07",
   "metadata": {},
   "source": [
    "## ptp4l:\n",
    "        ptp4l implements the PTP network protocol and aligns the PHC clocks on the slave side"
   ]
  },
  {
   "cell_type": "code",
   "execution_count": 1,
   "id": "7d637cac",
   "metadata": {},
   "outputs": [
    {
     "name": "stdout",
     "output_type": "stream",
     "text": [
      "phc_ctl[2610.196]: clock time is 1677764254.206277520 or Thu Mar  2 13:37:34 2023\n",
      "\n"
     ]
    },
    {
     "data": {
      "text/plain": [
       "0"
      ]
     },
     "execution_count": 1,
     "metadata": {},
     "output_type": "execute_result"
    }
   ],
   "source": [
    "import os\n",
    "get_ipython().system = os.system\n",
    "!phc_ctl /dev/ptp1 get\n",
    "\n"
   ]
  },
  {
   "cell_type": "code",
   "execution_count": 2,
   "id": "f5e9922e",
   "metadata": {},
   "outputs": [
    {
     "name": "stdout",
     "output_type": "stream",
     "text": [
      "********************** Ptp4l Application is Running ***************************\n",
      "*************** PHC clock Synchronized with Master node PHC clock***************\n",
      "phc_ctl[2633.998]: clock time is 1678785519.423639409 or Tue Mar 14 09:18:39 2023\n",
      "\n"
     ]
    },
    {
     "data": {
      "text/plain": [
       "0"
      ]
     },
     "execution_count": 2,
     "metadata": {},
     "output_type": "execute_result"
    }
   ],
   "source": [
    "!ptp4l -i eth0 -s &\n",
    "!echo \"********************** Ptp4l Application is Running ***************************\"\n",
    "!sleep 20\n",
    "!echo \"*************** PHC clock Synchronized with Master node PHC clock***************\"\n",
    "!phc_ctl /dev/ptp1 get"
   ]
  },
  {
   "cell_type": "markdown",
   "id": "90e1f07e",
   "metadata": {},
   "source": [
    "## Phc2sys:\n",
    "            phc2sys establishes the synchronization between the PHC and system clocks – the actual synchronization direction depends on the role of the node\n",
    "            "
   ]
  },
  {
   "cell_type": "code",
   "execution_count": 3,
   "id": "097cb669",
   "metadata": {},
   "outputs": [
    {
     "name": "stdout",
     "output_type": "stream",
     "text": [
      "phc_ctl[2678.214]: clock time is 1678785563.639871655 or Tue Mar 14 09:19:23 2023\n",
      "\n",
      "               Local time: Thu 2023-03-02 13:42:29 UTC\n",
      "           Universal time: Thu 2023-03-02 13:42:29 UTC\n",
      "                 RTC time: Thu 1970-01-01 00:44:45\n",
      "                Time zone: Etc/UTC (UTC, +0000)\n",
      "System clock synchronized: no\n",
      "              NTP service: active\n",
      "          RTC in local TZ: no\n"
     ]
    },
    {
     "data": {
      "text/plain": [
       "0"
      ]
     },
     "execution_count": 3,
     "metadata": {},
     "output_type": "execute_result"
    }
   ],
   "source": [
    "!phc_ctl /dev/ptp1 get\n",
    "!timedatectl\n",
    "\n"
   ]
  },
  {
   "cell_type": "code",
   "execution_count": 4,
   "id": "f3302fc7",
   "metadata": {},
   "outputs": [
    {
     "name": "stdout",
     "output_type": "stream",
     "text": [
      "********************** Phc2sys Application is Running ***************************\n",
      "*******************  system clock Synchronized with PHC_HW ************************\n",
      "               Local time: Tue 2023-03-14 09:19:38 UTC\n",
      "           Universal time: Tue 2023-03-14 09:19:38 UTC\n",
      "                 RTC time: Tue 2023-03-14 09:19:38\n",
      "                Time zone: Etc/UTC (UTC, +0000)\n",
      "System clock synchronized: yes\n",
      "              NTP service: active\n",
      "          RTC in local TZ: no\n",
      "phc_ctl[2693.078]: clock time is 1678785578.503215014 or Tue Mar 14 09:19:38 2023\n",
      "\n"
     ]
    },
    {
     "data": {
      "text/plain": [
       "0"
      ]
     },
     "execution_count": 4,
     "metadata": {},
     "output_type": "execute_result"
    }
   ],
   "source": [
    "!phc2sys -s eth0 -O 0 &\n",
    "!echo \"********************** Phc2sys Application is Running ***************************\"\n",
    "!sleep 5\n",
    "!echo \"*******************  system clock Synchronized with PHC_HW ************************\"\n",
    "!timedatectl\n",
    "!phc_ctl /dev/ptp1 get\n"
   ]
  },
  {
   "cell_type": "code",
   "execution_count": 7,
   "id": "feeeadbf",
   "metadata": {},
   "outputs": [
    {
     "name": "stdout",
     "output_type": "stream",
     "text": [
      "               Local time: Tue 2023-03-14 09:20:43 UTC\n",
      "           Universal time: Tue 2023-03-14 09:20:43 UTC\n",
      "                 RTC time: Tue 2023-03-14 09:20:43\n",
      "                Time zone: Etc/UTC (UTC, +0000)\n",
      "System clock synchronized: yes\n",
      "              NTP service: active\n",
      "          RTC in local TZ: no\n",
      "phc_ctl[2758.337]: clock time is 1678785643.762780073 or Tue Mar 14 09:20:43 2023\n",
      "\n"
     ]
    },
    {
     "data": {
      "text/plain": [
       "0"
      ]
     },
     "execution_count": 7,
     "metadata": {},
     "output_type": "execute_result"
    }
   ],
   "source": [
    "!timedatectl\n",
    "!phc_ctl /dev/ptp1 get\n"
   ]
  },
  {
   "cell_type": "code",
   "execution_count": null,
   "id": "d6d7d95a",
   "metadata": {},
   "outputs": [],
   "source": []
  },
  {
   "cell_type": "code",
   "execution_count": null,
   "id": "7ad6d2b4",
   "metadata": {},
   "outputs": [],
   "source": []
  }
 ],
 "metadata": {
  "kernelspec": {
   "display_name": "Python 3 (ipykernel)",
   "language": "python",
   "name": "python3"
  },
  "language_info": {
   "codemirror_mode": {
    "name": "ipython",
    "version": 3
   },
   "file_extension": ".py",
   "mimetype": "text/x-python",
   "name": "python",
   "nbconvert_exporter": "python",
   "pygments_lexer": "ipython3",
   "version": "3.10.6"
  }
 },
 "nbformat": 4,
 "nbformat_minor": 5
}
