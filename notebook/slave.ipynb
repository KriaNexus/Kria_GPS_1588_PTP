{
 "cells": [
  {
   "cell_type": "markdown",
   "id": "3618eeee",
   "metadata": {},
   "source": [
    "# Introduction\n",
    "\n",
    "\n",
    "\n",
    "                \n",
    "               This Notebook Demonstrates synchronizing GEM PTP Hardware clock and system clock with Master side PTP Hardware clock(Synchronized to GPS clock) using ptp4l and phc2sys utilities"
   ]
  },
  {
   "cell_type": "markdown",
   "id": "3c82e1bd",
   "metadata": {},
   "source": [
    "## ptp4l:\n",
    "        ptp4l implements the PTP network protocol and aligns the PHC clocks on the slave side"
   ]
  },
  {
   "cell_type": "code",
   "execution_count": null,
   "id": "b7c4ad38",
   "metadata": {},
   "outputs": [],
   "source": [
    "import os\n",
    "get_ipython().system = os.system\n",
    "!phc_ctl /dev/ptp1 get"
   ]
  },
  {
   "cell_type": "code",
   "execution_count": null,
   "id": "85f83628",
   "metadata": {},
   "outputs": [],
   "source": [
    "!ptp4l -i eth0 -s &\n",
    "!echo \"********************** Ptp4l Application is Running ***************************\"\n",
    "!sleep 20\n",
    "!echo \"*************** PHC clock Synchronized with Master node PHC clock***************\"\n",
    "!phc_ctl /dev/ptp1 get"
   ]
  },
  {
   "cell_type": "markdown",
   "id": "59d800f6",
   "metadata": {},
   "source": [
    "## Phc2sys:\n",
    "            phc2sys establishes the synchronization between the PHC and system clocks – the actual synchronization direction depends on the role of the node"
   ]
  },
  {
   "cell_type": "code",
   "execution_count": null,
   "id": "c191d78a",
   "metadata": {},
   "outputs": [],
   "source": [
    "!phc_ctl /dev/ptp1 get\n",
    "!timedatectl"
   ]
  },
  {
   "cell_type": "code",
   "execution_count": null,
   "id": "e84fde18",
   "metadata": {},
   "outputs": [],
   "source": [
    "!phc2sys -s eth0 -O 0 &\n",
    "!echo \"********************** Phc2sys Application is Running ***************************\"\n",
    "!sleep 5\n",
    "!echo \"*******************  system clock Synchronized with PHC_HW ************************\"\n",
    "!timedatectl\n",
    "!phc_ctl /dev/ptp1 get"
   ]
  }
 ],
 "metadata": {
  "kernelspec": {
   "display_name": "Python 3 (ipykernel)",
   "language": "python",
   "name": "python3"
  },
  "language_info": {
   "codemirror_mode": {
    "name": "ipython",
    "version": 3
   },
   "file_extension": ".py",
   "mimetype": "text/x-python",
   "name": "python",
   "nbconvert_exporter": "python",
   "pygments_lexer": "ipython3",
   "version": "3.10.6"
  }
 },
 "nbformat": 4,
 "nbformat_minor": 5
}
